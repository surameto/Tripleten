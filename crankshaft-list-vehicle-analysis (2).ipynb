{
 "cells": [
  {
   "cell_type": "markdown",
   "id": "88a9ae16",
   "metadata": {
    "_cell_guid": "95738a50-8445-47a3-8f24-e2a0cad192bb",
    "_uuid": "3d92b643-4eb4-405f-96a0-9bdfcb71d706",
    "execution": {
     "iopub.execute_input": "2023-11-26T13:43:40.465574Z",
     "iopub.status.busy": "2023-11-26T13:43:40.465232Z",
     "iopub.status.idle": "2023-11-26T13:43:40.501739Z",
     "shell.execute_reply": "2023-11-26T13:43:40.500342Z",
     "shell.execute_reply.started": "2023-11-26T13:43:40.465546Z"
    },
    "jupyter": {
     "outputs_hidden": false
    },
    "papermill": {
     "duration": 0.005557,
     "end_time": "2023-11-26T13:59:44.920449",
     "exception": false,
     "start_time": "2023-11-26T13:59:44.914892",
     "status": "completed"
    },
    "tags": []
   },
   "source": [
    "# Introduction: What Factors Sell a Car?\n",
    "\n",
    "Hundreds of free vehicle ads are posted on websites every day. Several kinds of information are provided on the web including the physical condition of the vehicle, the year the vehicle was made, the selling price of the vehicle. An analysis was conducted to study the data set over the past few years and determine the factors that influence the price of a vehicle.\n",
    "\n",
    "# Objective\n",
    "This project aims to study the parameters that affect the price of a vehicle. Hypotheses were formed as follows:\n",
    "\n",
    "1. What is the correlation of non-numerical (transmission type and vehicle color) to vehicle price?\n",
    "2. What is the correlation of age, mileage, and vehicle condition to vehicle price?"
   ]
  },
  {
   "cell_type": "markdown",
   "id": "6cce2803",
   "metadata": {
    "papermill": {
     "duration": 0.00482,
     "end_time": "2023-11-26T13:59:44.932813",
     "exception": false,
     "start_time": "2023-11-26T13:59:44.927993",
     "status": "completed"
    },
    "tags": []
   },
   "source": [
    "## Data Preprocessing"
   ]
  },
  {
   "cell_type": "code",
   "execution_count": 1,
   "id": "2bb10e95",
   "metadata": {
    "execution": {
     "iopub.execute_input": "2023-11-26T13:59:44.945322Z",
     "iopub.status.busy": "2023-11-26T13:59:44.944811Z",
     "iopub.status.idle": "2023-11-26T13:59:48.072081Z",
     "shell.execute_reply": "2023-11-26T13:59:48.070896Z"
    },
    "papermill": {
     "duration": 3.137175,
     "end_time": "2023-11-26T13:59:48.075056",
     "exception": false,
     "start_time": "2023-11-26T13:59:44.937881",
     "status": "completed"
    },
    "tags": []
   },
   "outputs": [],
   "source": [
    "# Import all libraries\n",
    "import pandas as pd\n",
    "import matplotlib.pyplot as plt\n",
    "import numpy as np\n",
    "import plotly.express as px\n",
    "import seaborn as sns\n",
    "import plotly.graph_objects as go\n",
    "\n",
    "# Load a data file into a DataFrame\n",
    "data = pd.read_csv('/kaggle/input/vehicle-us/vehicles_us.csv')"
   ]
  },
  {
   "cell_type": "markdown",
   "id": "d14292e8",
   "metadata": {
    "papermill": {
     "duration": 0.004761,
     "end_time": "2023-11-26T13:59:48.084990",
     "exception": false,
     "start_time": "2023-11-26T13:59:48.080229",
     "status": "completed"
    },
    "tags": []
   },
   "source": [
    "### Exploring Preliminary Data\n",
    "*The Dataset* contains the following columns: \n",
    "\n",
    "- `price`\n",
    "- `model_year`\n",
    "- `model`\n",
    "- `condition`\n",
    "- `cylinders`\n",
    "- `fuel` - gas, diesel, etc.\n",
    "- `odometer` - the mileage of the vehicle at the time the ad was aired  \n",
    "- `transmission`\n",
    "- `paint_color`\n",
    "- `is_4wd` - whether the vehicle has 4-wheel drive (Boolean type)\n",
    "- `date_posted` - the date the ad was posted \n",
    "- `days_listed` - the number of days the ad was live until it was deleted "
   ]
  },
  {
   "cell_type": "code",
   "execution_count": 2,
   "id": "7ce583af",
   "metadata": {
    "execution": {
     "iopub.execute_input": "2023-11-26T13:59:48.097523Z",
     "iopub.status.busy": "2023-11-26T13:59:48.096703Z",
     "iopub.status.idle": "2023-11-26T13:59:48.176213Z",
     "shell.execute_reply": "2023-11-26T13:59:48.175096Z"
    },
    "papermill": {
     "duration": 0.089609,
     "end_time": "2023-11-26T13:59:48.179624",
     "exception": false,
     "start_time": "2023-11-26T13:59:48.090015",
     "status": "completed"
    },
    "tags": []
   },
   "outputs": [
    {
     "name": "stdout",
     "output_type": "stream",
     "text": [
      "<class 'pandas.core.frame.DataFrame'>\n",
      "RangeIndex: 51525 entries, 0 to 51524\n",
      "Data columns (total 13 columns):\n",
      " #   Column        Non-Null Count  Dtype  \n",
      "---  ------        --------------  -----  \n",
      " 0   price         51525 non-null  int64  \n",
      " 1   model_year    47906 non-null  float64\n",
      " 2   model         51525 non-null  object \n",
      " 3   condition     51525 non-null  object \n",
      " 4   cylinders     46265 non-null  float64\n",
      " 5   fuel          51525 non-null  object \n",
      " 6   odometer      43633 non-null  float64\n",
      " 7   transmission  51525 non-null  object \n",
      " 8   type          51525 non-null  object \n",
      " 9   paint_color   42258 non-null  object \n",
      " 10  is_4wd        25572 non-null  float64\n",
      " 11  date_posted   51525 non-null  object \n",
      " 12  days_listed   51525 non-null  int64  \n",
      "dtypes: float64(4), int64(2), object(7)\n",
      "memory usage: 5.1+ MB\n"
     ]
    }
   ],
   "source": [
    "#Shows general information/summaries about the DataFrame\n",
    "data.info()"
   ]
  },
  {
   "cell_type": "code",
   "execution_count": 3,
   "id": "9b3e7d9b",
   "metadata": {
    "execution": {
     "iopub.execute_input": "2023-11-26T13:59:48.192329Z",
     "iopub.status.busy": "2023-11-26T13:59:48.191907Z",
     "iopub.status.idle": "2023-11-26T13:59:48.220312Z",
     "shell.execute_reply": "2023-11-26T13:59:48.219008Z"
    },
    "papermill": {
     "duration": 0.037875,
     "end_time": "2023-11-26T13:59:48.222982",
     "exception": false,
     "start_time": "2023-11-26T13:59:48.185107",
     "status": "completed"
    },
    "tags": []
   },
   "outputs": [
    {
     "data": {
      "text/html": [
       "<div>\n",
       "<style scoped>\n",
       "    .dataframe tbody tr th:only-of-type {\n",
       "        vertical-align: middle;\n",
       "    }\n",
       "\n",
       "    .dataframe tbody tr th {\n",
       "        vertical-align: top;\n",
       "    }\n",
       "\n",
       "    .dataframe thead th {\n",
       "        text-align: right;\n",
       "    }\n",
       "</style>\n",
       "<table border=\"1\" class=\"dataframe\">\n",
       "  <thead>\n",
       "    <tr style=\"text-align: right;\">\n",
       "      <th></th>\n",
       "      <th>price</th>\n",
       "      <th>model_year</th>\n",
       "      <th>model</th>\n",
       "      <th>condition</th>\n",
       "      <th>cylinders</th>\n",
       "      <th>fuel</th>\n",
       "      <th>odometer</th>\n",
       "      <th>transmission</th>\n",
       "      <th>type</th>\n",
       "      <th>paint_color</th>\n",
       "      <th>is_4wd</th>\n",
       "      <th>date_posted</th>\n",
       "      <th>days_listed</th>\n",
       "    </tr>\n",
       "  </thead>\n",
       "  <tbody>\n",
       "    <tr>\n",
       "      <th>11280</th>\n",
       "      <td>19500</td>\n",
       "      <td>2018.0</td>\n",
       "      <td>jeep cherokee</td>\n",
       "      <td>like new</td>\n",
       "      <td>6.0</td>\n",
       "      <td>gas</td>\n",
       "      <td>15800.0</td>\n",
       "      <td>automatic</td>\n",
       "      <td>SUV</td>\n",
       "      <td>blue</td>\n",
       "      <td>NaN</td>\n",
       "      <td>2019-02-25</td>\n",
       "      <td>17</td>\n",
       "    </tr>\n",
       "  </tbody>\n",
       "</table>\n",
       "</div>"
      ],
      "text/plain": [
       "       price  model_year          model condition  cylinders fuel  odometer  \\\n",
       "11280  19500      2018.0  jeep cherokee  like new        6.0  gas   15800.0   \n",
       "\n",
       "      transmission type paint_color  is_4wd date_posted  days_listed  \n",
       "11280    automatic  SUV        blue     NaN  2019-02-25           17  "
      ]
     },
     "execution_count": 3,
     "metadata": {},
     "output_type": "execute_result"
    }
   ],
   "source": [
    "# Display sample data\n",
    "data.sample()"
   ]
  },
  {
   "cell_type": "code",
   "execution_count": 4,
   "id": "12c5fead",
   "metadata": {
    "execution": {
     "iopub.execute_input": "2023-11-26T13:59:48.236081Z",
     "iopub.status.busy": "2023-11-26T13:59:48.235380Z",
     "iopub.status.idle": "2023-11-26T13:59:48.286968Z",
     "shell.execute_reply": "2023-11-26T13:59:48.285679Z"
    },
    "papermill": {
     "duration": 0.061202,
     "end_time": "2023-11-26T13:59:48.289654",
     "exception": false,
     "start_time": "2023-11-26T13:59:48.228452",
     "status": "completed"
    },
    "tags": []
   },
   "outputs": [
    {
     "data": {
      "text/html": [
       "<div>\n",
       "<style scoped>\n",
       "    .dataframe tbody tr th:only-of-type {\n",
       "        vertical-align: middle;\n",
       "    }\n",
       "\n",
       "    .dataframe tbody tr th {\n",
       "        vertical-align: top;\n",
       "    }\n",
       "\n",
       "    .dataframe thead th {\n",
       "        text-align: right;\n",
       "    }\n",
       "</style>\n",
       "<table border=\"1\" class=\"dataframe\">\n",
       "  <thead>\n",
       "    <tr style=\"text-align: right;\">\n",
       "      <th></th>\n",
       "      <th>price</th>\n",
       "      <th>model_year</th>\n",
       "      <th>cylinders</th>\n",
       "      <th>odometer</th>\n",
       "      <th>is_4wd</th>\n",
       "      <th>days_listed</th>\n",
       "    </tr>\n",
       "  </thead>\n",
       "  <tbody>\n",
       "    <tr>\n",
       "      <th>count</th>\n",
       "      <td>51525.000000</td>\n",
       "      <td>47906.000000</td>\n",
       "      <td>46265.000000</td>\n",
       "      <td>43633.000000</td>\n",
       "      <td>25572.0</td>\n",
       "      <td>51525.00000</td>\n",
       "    </tr>\n",
       "    <tr>\n",
       "      <th>mean</th>\n",
       "      <td>12132.464920</td>\n",
       "      <td>2009.750470</td>\n",
       "      <td>6.125235</td>\n",
       "      <td>115553.461738</td>\n",
       "      <td>1.0</td>\n",
       "      <td>39.55476</td>\n",
       "    </tr>\n",
       "    <tr>\n",
       "      <th>std</th>\n",
       "      <td>10040.803015</td>\n",
       "      <td>6.282065</td>\n",
       "      <td>1.660360</td>\n",
       "      <td>65094.611341</td>\n",
       "      <td>0.0</td>\n",
       "      <td>28.20427</td>\n",
       "    </tr>\n",
       "    <tr>\n",
       "      <th>min</th>\n",
       "      <td>1.000000</td>\n",
       "      <td>1908.000000</td>\n",
       "      <td>3.000000</td>\n",
       "      <td>0.000000</td>\n",
       "      <td>1.0</td>\n",
       "      <td>0.00000</td>\n",
       "    </tr>\n",
       "    <tr>\n",
       "      <th>25%</th>\n",
       "      <td>5000.000000</td>\n",
       "      <td>2006.000000</td>\n",
       "      <td>4.000000</td>\n",
       "      <td>70000.000000</td>\n",
       "      <td>1.0</td>\n",
       "      <td>19.00000</td>\n",
       "    </tr>\n",
       "    <tr>\n",
       "      <th>50%</th>\n",
       "      <td>9000.000000</td>\n",
       "      <td>2011.000000</td>\n",
       "      <td>6.000000</td>\n",
       "      <td>113000.000000</td>\n",
       "      <td>1.0</td>\n",
       "      <td>33.00000</td>\n",
       "    </tr>\n",
       "    <tr>\n",
       "      <th>75%</th>\n",
       "      <td>16839.000000</td>\n",
       "      <td>2014.000000</td>\n",
       "      <td>8.000000</td>\n",
       "      <td>155000.000000</td>\n",
       "      <td>1.0</td>\n",
       "      <td>53.00000</td>\n",
       "    </tr>\n",
       "    <tr>\n",
       "      <th>max</th>\n",
       "      <td>375000.000000</td>\n",
       "      <td>2019.000000</td>\n",
       "      <td>12.000000</td>\n",
       "      <td>990000.000000</td>\n",
       "      <td>1.0</td>\n",
       "      <td>271.00000</td>\n",
       "    </tr>\n",
       "  </tbody>\n",
       "</table>\n",
       "</div>"
      ],
      "text/plain": [
       "               price    model_year     cylinders       odometer   is_4wd  \\\n",
       "count   51525.000000  47906.000000  46265.000000   43633.000000  25572.0   \n",
       "mean    12132.464920   2009.750470      6.125235  115553.461738      1.0   \n",
       "std     10040.803015      6.282065      1.660360   65094.611341      0.0   \n",
       "min         1.000000   1908.000000      3.000000       0.000000      1.0   \n",
       "25%      5000.000000   2006.000000      4.000000   70000.000000      1.0   \n",
       "50%      9000.000000   2011.000000      6.000000  113000.000000      1.0   \n",
       "75%     16839.000000   2014.000000      8.000000  155000.000000      1.0   \n",
       "max    375000.000000   2019.000000     12.000000  990000.000000      1.0   \n",
       "\n",
       "       days_listed  \n",
       "count  51525.00000  \n",
       "mean      39.55476  \n",
       "std       28.20427  \n",
       "min        0.00000  \n",
       "25%       19.00000  \n",
       "50%       33.00000  \n",
       "75%       53.00000  \n",
       "max      271.00000  "
      ]
     },
     "execution_count": 4,
     "metadata": {},
     "output_type": "execute_result"
    }
   ],
   "source": [
    "# Display description of the dataframe\n",
    "data.describe()"
   ]
  },
  {
   "cell_type": "markdown",
   "id": "55a564e8",
   "metadata": {
    "papermill": {
     "duration": 0.00554,
     "end_time": "2023-11-26T13:59:48.301201",
     "exception": false,
     "start_time": "2023-11-26T13:59:48.295661",
     "status": "completed"
    },
    "tags": []
   },
   "source": [
    "Based on the information above, the dataset has 13 columns and 51525 rows. From general observation, there are missing values for the columns 'model_year', 'cylinders', 'odometer', \n",
    "'paint_color', and 'is_4wd'.  \n",
    "\n",
    "Missing values for each of these columns can be resolved by creating the value or by replacing the 'NaN' value with another value. Both methods are used to improve data quality.\n",
    "\n",
    "The data type for column 'is_4wd' should be boolean, not float The data type for column 'date_posted' should be date/time. This problem can be solved by changing the data type according to the data type.\n"
   ]
  },
  {
   "cell_type": "code",
   "execution_count": 5,
   "id": "9fee460f",
   "metadata": {
    "execution": {
     "iopub.execute_input": "2023-11-26T13:59:48.314765Z",
     "iopub.status.busy": "2023-11-26T13:59:48.314366Z",
     "iopub.status.idle": "2023-11-26T13:59:48.361982Z",
     "shell.execute_reply": "2023-11-26T13:59:48.360616Z"
    },
    "papermill": {
     "duration": 0.057584,
     "end_time": "2023-11-26T13:59:48.364655",
     "exception": false,
     "start_time": "2023-11-26T13:59:48.307071",
     "status": "completed"
    },
    "tags": []
   },
   "outputs": [
    {
     "data": {
      "text/plain": [
       "is_4wd          25953\n",
       "paint_color      9267\n",
       "odometer         7892\n",
       "cylinders        5260\n",
       "model_year       3619\n",
       "price               0\n",
       "model               0\n",
       "condition           0\n",
       "fuel                0\n",
       "transmission        0\n",
       "type                0\n",
       "date_posted         0\n",
       "days_listed         0\n",
       "dtype: int64"
      ]
     },
     "execution_count": 5,
     "metadata": {},
     "output_type": "execute_result"
    }
   ],
   "source": [
    "# Display #NaN value\n",
    "data.isna().sum().sort_values(ascending=False)"
   ]
  },
  {
   "cell_type": "markdown",
   "id": "770ad3f7",
   "metadata": {
    "papermill": {
     "duration": 0.005903,
     "end_time": "2023-11-26T13:59:48.376697",
     "exception": false,
     "start_time": "2023-11-26T13:59:48.370794",
     "status": "completed"
    },
    "tags": []
   },
   "source": [
    "### <br>Conclusions and Next Steps</br>\n",
    "From the results of the data exploration, the conclusions and next steps are as follows:\n",
    "\n",
    "1. Missing value in 'is_4wd' column can be resolved by imputing 'NaN' value with 'True/False' boolean value.\n",
    "2. Missing value in the 'paint_color' column can be resolved by imputing 'unknown' for the 'NaN' value. The imputation is done to provide the color category of the vehicle and considering the data type in the column is a string.\n",
    "3. Missing values in the 'odometer', 'cylinders' and 'model_year' columns are resolved by imputing the median value of the data in each column.\n",
    "4. The data type in 'is_4wd' can be changed to a boolean data type to facilitate analysis and the 'date_posted' type which was previously a string data type is changed to a datetime data type."
   ]
  },
  {
   "cell_type": "markdown",
   "id": "09e45327",
   "metadata": {
    "execution": {
     "iopub.execute_input": "2023-11-26T13:55:37.169395Z",
     "iopub.status.busy": "2023-11-26T13:55:37.169053Z",
     "iopub.status.idle": "2023-11-26T13:55:37.173913Z",
     "shell.execute_reply": "2023-11-26T13:55:37.172923Z",
     "shell.execute_reply.started": "2023-11-26T13:55:37.169366Z"
    },
    "papermill": {
     "duration": 0.00575,
     "end_time": "2023-11-26T13:59:48.388457",
     "exception": false,
     "start_time": "2023-11-26T13:59:48.382707",
     "status": "completed"
    },
    "tags": []
   },
   "source": [
    "## Resolve Missing Values"
   ]
  },
  {
   "cell_type": "code",
   "execution_count": 6,
   "id": "5e167e0d",
   "metadata": {
    "execution": {
     "iopub.execute_input": "2023-11-26T13:59:48.402333Z",
     "iopub.status.busy": "2023-11-26T13:59:48.401896Z",
     "iopub.status.idle": "2023-11-26T13:59:48.413712Z",
     "shell.execute_reply": "2023-11-26T13:59:48.412506Z"
    },
    "papermill": {
     "duration": 0.021697,
     "end_time": "2023-11-26T13:59:48.416122",
     "exception": false,
     "start_time": "2023-11-26T13:59:48.394425",
     "status": "completed"
    },
    "tags": []
   },
   "outputs": [
    {
     "data": {
      "text/plain": [
       "array([nan, 'white', 'red', 'black', 'blue', 'grey', 'silver', 'custom',\n",
       "       'orange', 'yellow', 'brown', 'green', 'purple'], dtype=object)"
      ]
     },
     "execution_count": 6,
     "metadata": {},
     "output_type": "execute_result"
    }
   ],
   "source": [
    "#Review the unique value in the 'paint_color' column\n",
    "data['paint_color'].unique()"
   ]
  },
  {
   "cell_type": "code",
   "execution_count": 7,
   "id": "a97fb5f0",
   "metadata": {
    "execution": {
     "iopub.execute_input": "2023-11-26T13:59:48.430519Z",
     "iopub.status.busy": "2023-11-26T13:59:48.430095Z",
     "iopub.status.idle": "2023-11-26T13:59:48.452379Z",
     "shell.execute_reply": "2023-11-26T13:59:48.451476Z"
    },
    "papermill": {
     "duration": 0.032953,
     "end_time": "2023-11-26T13:59:48.455271",
     "exception": false,
     "start_time": "2023-11-26T13:59:48.422318",
     "status": "completed"
    },
    "tags": []
   },
   "outputs": [
    {
     "data": {
      "text/plain": [
       "array(['unknown', 'white', 'red', 'black', 'blue', 'grey', 'silver',\n",
       "       'custom', 'orange', 'yellow', 'brown', 'green', 'purple'],\n",
       "      dtype=object)"
      ]
     },
     "execution_count": 7,
     "metadata": {},
     "output_type": "execute_result"
    }
   ],
   "source": [
    "# Fill the NAN value in the 'paint_color' column using the value 'unknown'.\n",
    "data['paint_color'] = data['paint_color'].fillna('unknown')\n",
    "\n",
    "# Review the unique value of the 'paint_color' column after fixing the NAN value\n",
    "data['paint_color'].unique()"
   ]
  },
  {
   "cell_type": "markdown",
   "id": "4cdc1f8b",
   "metadata": {
    "papermill": {
     "duration": 0.006011,
     "end_time": "2023-11-26T13:59:48.468034",
     "exception": false,
     "start_time": "2023-11-26T13:59:48.462023",
     "status": "completed"
    },
    "tags": []
   },
   "source": []
  }
 ],
 "metadata": {
  "kaggle": {
   "accelerator": "none",
   "dataSources": [
    {
     "datasetId": 1925103,
     "sourceId": 3166065,
     "sourceType": "datasetVersion"
    }
   ],
   "dockerImageVersionId": 30587,
   "isGpuEnabled": false,
   "isInternetEnabled": false,
   "language": "python",
   "sourceType": "notebook"
  },
  "kernelspec": {
   "display_name": "Python 3",
   "language": "python",
   "name": "python3"
  },
  "language_info": {
   "codemirror_mode": {
    "name": "ipython",
    "version": 3
   },
   "file_extension": ".py",
   "mimetype": "text/x-python",
   "name": "python",
   "nbconvert_exporter": "python",
   "pygments_lexer": "ipython3",
   "version": "3.10.12"
  },
  "papermill": {
   "default_parameters": {},
   "duration": 7.924649,
   "end_time": "2023-11-26T13:59:49.195345",
   "environment_variables": {},
   "exception": null,
   "input_path": "__notebook__.ipynb",
   "output_path": "__notebook__.ipynb",
   "parameters": {},
   "start_time": "2023-11-26T13:59:41.270696",
   "version": "2.4.0"
  }
 },
 "nbformat": 4,
 "nbformat_minor": 5
}
